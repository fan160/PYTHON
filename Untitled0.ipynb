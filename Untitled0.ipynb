{
  "nbformat": 4,
  "nbformat_minor": 0,
  "metadata": {
    "colab": {
      "provenance": [],
      "authorship_tag": "ABX9TyPORA+c7MwH/7JRyiF/krOG",
      "include_colab_link": true
    },
    "kernelspec": {
      "name": "python3",
      "display_name": "Python 3"
    },
    "language_info": {
      "name": "python"
    }
  },
  "cells": [
    {
      "cell_type": "markdown",
      "metadata": {
        "id": "view-in-github",
        "colab_type": "text"
      },
      "source": [
        "<a href=\"https://colab.research.google.com/github/fan160/PYTHON/blob/main/Untitled0.ipynb\" target=\"_parent\"><img src=\"https://colab.research.google.com/assets/colab-badge.svg\" alt=\"Open In Colab\"/></a>"
      ]
    },
    {
      "cell_type": "markdown",
      "source": [
        "aula 1"
      ],
      "metadata": {
        "id": "gFJN4QpQnm68"
      }
    },
    {
      "cell_type": "code",
      "source": [
        "print(\"I competição de programação dá Start\")"
      ],
      "metadata": {
        "colab": {
          "base_uri": "https://localhost:8080/"
        },
        "id": "YQgnd-QanqM3",
        "outputId": "b98e53be-1183-4287-a1ea-850353f11ca7"
      },
      "execution_count": null,
      "outputs": [
        {
          "output_type": "stream",
          "name": "stdout",
          "text": [
            "I competição de programação dá Start\n"
          ]
        }
      ]
    },
    {
      "cell_type": "code",
      "source": [
        "ano = \"VI\""
      ],
      "metadata": {
        "id": "V0WB7PnTopK2"
      },
      "execution_count": null,
      "outputs": []
    },
    {
      "cell_type": "code",
      "source": [
        "print(ano, \"competição de programação da Start\")"
      ],
      "metadata": {
        "colab": {
          "base_uri": "https://localhost:8080/"
        },
        "id": "0UMXAJU7ousM",
        "outputId": "982a20cd-d362-4730-e4f6-fa618aec9b3e"
      },
      "execution_count": null,
      "outputs": [
        {
          "output_type": "stream",
          "name": "stdout",
          "text": [
            "VI competição de programação da Start\n"
          ]
        }
      ]
    },
    {
      "cell_type": "markdown",
      "source": [
        "AULA 2"
      ],
      "metadata": {
        "id": "dVV8vvStkbN9"
      }
    },
    {
      "cell_type": "code",
      "source": [
        "livro_ficcao = 8\n",
        "livro_n_ficcao = 10\n",
        "livro_infantil = 6\n",
        "pontos_rodrigo = livro_ficcao + livro_n_ficcao + livro_infantil\n",
        "print(f\"Os pontos totais do Rodrigo são {pontos_rodrigo}\")\n",
        "\n",
        "pontos_Ana = livro_ficcao * 2 + livro_infantil * 5\n",
        "print(f\"Os pontos totais do Ana são {pontos_Ana}\")\n",
        "pontos_totais = pontos_rodrigo + pontos_Ana\n",
        "print(f\"Os pontos totais do Rodrigo são {pontos_totais}\")\n",
        "pontos_carlos = 1 * livro_ficcao + 3 * livro_n_ficcao + 3 * livro_infantil\n",
        "print(f\"Os pontos totais do carlos são {pontos_carlos}\")\n",
        "pontos_totais = pontos_rodrigo + pontos_Ana + pontos_carlos\n",
        "print(f\"Os pontos totais de ana e rodrigo sao {pontos_totais}\")\n",
        "\n",
        "\n",
        "\n"
      ],
      "metadata": {
        "colab": {
          "base_uri": "https://localhost:8080/"
        },
        "id": "_d6F9xHVkhBk",
        "outputId": "a50a29e4-eccc-4dd3-d31c-c4024ae68acc"
      },
      "execution_count": null,
      "outputs": [
        {
          "output_type": "stream",
          "name": "stdout",
          "text": [
            "Os pontos totais do Rodrigo são 24\n",
            "Os pontos totais do Ana são 46\n",
            "Os pontos totais do Rodrigo são 70\n",
            "Os pontos totais do carlos são 56\n",
            "Os pontos totais de ana e rodrigo sao 126\n"
          ]
        }
      ]
    },
    {
      "cell_type": "code",
      "source": [
        "total_de_figurinhas = int(input(\"Digite o total de figurinhas: \"))\n",
        "numero_de_amigos = int(input(\"Digite o número de amigos: \"))\n",
        "figurinhas_amigo = total_de_figurinhas // (numero_de_amigos + 2)\n",
        "figurinhas_joao = 2 * figurinhas_amigo\n",
        "\n",
        "print(f\"João recebeu {figurinhas_joao} figurinhas\")"
      ],
      "metadata": {
        "id": "cAEBdHZBslKf",
        "outputId": "fd84828e-49e9-46e7-b9a6-27cd74f166f7",
        "colab": {
          "base_uri": "https://localhost:8080/"
        }
      },
      "execution_count": null,
      "outputs": [
        {
          "output_type": "stream",
          "name": "stdout",
          "text": [
            "Digite o total de figurinhas: 100\n",
            "Digite o número de amigos: 5\n",
            "João recebeu 28 figurinhas\n"
          ]
        }
      ]
    },
    {
      "cell_type": "markdown",
      "source": [
        "AULA 4"
      ],
      "metadata": {
        "id": "MqHQA_-KtmTu"
      }
    },
    {
      "cell_type": "code",
      "source": [
        "P = int(input(\"Digite a posição da porta P (0 ou 1): \"))\n",
        "R = int(input(\"Digite a posição da porta R (0 ou 1): \"))\n",
        "if P == 0:\n",
        "    print(\"C\")\n",
        "else:\n",
        "    if R == 1:\n",
        "        print(\"A\")\n",
        "    else:\n",
        "        print(\"B\")"
      ],
      "metadata": {
        "colab": {
          "base_uri": "https://localhost:8080/"
        },
        "id": "RoryPJFptrZ1",
        "outputId": "763110ba-1beb-4306-bf73-8f374f4d8e85"
      },
      "execution_count": null,
      "outputs": [
        {
          "output_type": "stream",
          "name": "stdout",
          "text": [
            "Digite a posição da porta P (0 ou 1): 1\n",
            "Digite a posição da porta R (0 ou 1): 0\n",
            "B\n"
          ]
        }
      ]
    },
    {
      "cell_type": "code",
      "source": [
        "P = int(input(\"Digite a posição da porta P (0 ou 1): \"))\n",
        "R = int(input(\"Digite a posição da porta R (0 ou 1): \"))\n",
        "Q = int(input(\"Digite a posição da porta Q (0 ou 1): \"))\n",
        "if P == 0:\n",
        "    print(\"C\")\n",
        "else:\n",
        "    if R == 1:\n",
        "        print(\"A\")\n",
        "    else:\n",
        "        print(\"B\")\n",
        "\n",
        "            print(\"D\")"
      ],
      "metadata": {
        "colab": {
          "base_uri": "https://localhost:8080/",
          "height": 106
        },
        "id": "ZpYz1UWRx4PF",
        "outputId": "97ef3911-5bbb-4995-bf40-7451422cdea9"
      },
      "execution_count": null,
      "outputs": [
        {
          "output_type": "error",
          "ename": "IndentationError",
          "evalue": "unexpected indent (ipython-input-1755296340.py, line 12)",
          "traceback": [
            "\u001b[0;36m  File \u001b[0;32m\"/tmp/ipython-input-1755296340.py\"\u001b[0;36m, line \u001b[0;32m12\u001b[0m\n\u001b[0;31m    print(\"D\")\u001b[0m\n\u001b[0m    ^\u001b[0m\n\u001b[0;31mIndentationError\u001b[0m\u001b[0;31m:\u001b[0m unexpected indent\n"
          ]
        }
      ]
    },
    {
      "cell_type": "markdown",
      "source": [
        "AULA 6"
      ],
      "metadata": {
        "id": "-IuxbDFby-FO"
      }
    },
    {
      "cell_type": "code",
      "source": [
        "def calcula_idade_maior(idade_monica, idade_filho1, idade_filho2):\n",
        "  idade_filho3 = idade_monica - idade_filho1 - idade_filho2\n",
        "  idade_maxima = max(idade_filho1, idade_filho2, idade_filho3)\n",
        "  return idade_filho3, idade_maxima"
      ],
      "metadata": {
        "id": "5toGY0AyzfHm"
      },
      "execution_count": null,
      "outputs": []
    },
    {
      "cell_type": "markdown",
      "source": [
        "AULA 8 👽 💸"
      ],
      "metadata": {
        "id": "uplmFzrhx1oN"
      }
    },
    {
      "cell_type": "code",
      "source": [
        "print(\"Sou seu asistente virtual, \\n  \")\n",
        "nome = (input(\"Digite seu nome:\"))\n",
        "print(f\"Olá, {nome}.Qual é sua duvida hoje?\")\n",
        "resposta = input(\"Qual o assunto que deseja tratar: Matemática , Python , Javascript: \").lower()\n",
        "print(f\"que bom, {nome}, vamos falar sobre {resposta}\")\n",
        "if resposta==\"python\":\n",
        "  print(\"Ótimo, vamo falar sobre Python ! Python é uma linguagem de programação altamente popular e versátil, conhecida por sua sintaxe clara e intuitiva. Desenvolvida na década de 1990 por Guido van Rossum, ela se destaca pela facilidade de aprendizado e pela grande variedade de bibliotecas e frameworks. Python é amplamente utilizada em diversas áreas, como ciência de dados, inteligência artificial, desenvolvimento web e automação. Com bibliotecas como NumPy, Pandas e TensorFlow, Python é uma escolha de destaque para tarefas que envolvem cálculos complexos, análise de dados e aprendizado de máquina, permitindo que programadores se concentrem mais na lógica do que na estrutura do código.\")\n",
        "elif resposta==\"matemática\":\n",
        "    print(\"Perfeito, vamos resolver umas questões de Matemática!A Matemática é a linguagem universal que descreve o mundo ao nosso redor, desde as leis da física até padrões em dados. Ela nos permite modelar fenômenos naturais, resolver problemas complexos e tomar decisões informadas. Conceitos como álgebra, geometria, cálculo e estatística são fundamentais em várias áreas do conhecimento, incluindo ciências naturais, economia, e até em tecnologias emergentes como inteligência artificial. No fundo, a Matemática é a chave para entender e inovar em diversas disciplinas.\")\n",
        "elif resposta==\"javascript\":\n",
        "    print(\"Que legal, vamoas conversar sobre javascript! JavaScript é uma das linguagens de programação mais fundamentais para o desenvolvimento web. Criado por Brendan Eich em 1995, ele permite a criação de páginas web interativas e dinâmicas, tornando a experiência do usuário mais envolvente. Ao contrário de outras linguagens, JavaScript é executado no lado do cliente, ou seja, no navegador do usuário, o que permite criar funcionalidades como animações, validação de formulários, interações com o servidor e muito mais. Além disso, com frameworks como React, Angular e Vue.js, JavaScript se expandiu para se tornar uma ferramenta poderosa no desenvolvimento de aplicações web modernas e complexas, tanto no front-end quanto no back-end (com o uso de Node.js).\")"
      ],
      "metadata": {
        "colab": {
          "base_uri": "https://localhost:8080/"
        },
        "id": "G5K59HkOy097",
        "outputId": "b0b85497-5323-49e1-e5da-a3e764cc0b9d"
      },
      "execution_count": 10,
      "outputs": [
        {
          "output_type": "stream",
          "name": "stdout",
          "text": [
            "Sou seu asistente virtual, \n",
            "  \n",
            "Digite seu nome:paso\n",
            "Olá, paso.Qual é sua duvida hoje?\n",
            "Qual o assunto que deseja tratar: Matemática , Python , Javascript: matematica\n",
            "que bom, paso, vamos falar sobre matematica\n"
          ]
        }
      ]
    }
  ]
}